{
 "cells": [
  {
   "cell_type": "code",
   "execution_count": 36,
   "metadata": {},
   "outputs": [],
   "source": [
    "from readlif.reader import LifFile\n",
    "import numpy as np\n",
    "from PIL import Image\n",
    "#import matplotlib.pyplot as plt"
   ]
  },
  {
   "cell_type": "code",
   "execution_count": 18,
   "metadata": {},
   "outputs": [],
   "source": [
    "#read file\n",
    "img = LifFile('../src/20231230_ID514_silence_IC_neuercfos.lif')\n"
   ]
  },
  {
   "cell_type": "code",
   "execution_count": 19,
   "metadata": {},
   "outputs": [],
   "source": [
    "a = img.get_image(0)\n"
   ]
  },
  {
   "cell_type": "code",
   "execution_count": 26,
   "metadata": {},
   "outputs": [],
   "source": [
    "#change of channels here\n",
    "channal =1"
   ]
  },
  {
   "cell_type": "code",
   "execution_count": 37,
   "metadata": {},
   "outputs": [
    {
     "name": "stdout",
     "output_type": "stream",
     "text": [
      "For m= 1, the brightest z-stack is: 1 and following, with an mean intensity of 2.404579480489095\n",
      "For m= 2, the brightest z-stack is: 1 and following, with an mean intensity of 4.307953516642253\n",
      "For m= 3, the brightest z-stack is: 1 and following, with an mean intensity of 3.988027572631836\n",
      "For m= 4, the brightest z-stack is: 1 and following, with an mean intensity of 4.446972211201985\n",
      "For m= 5, the brightest z-stack is: 1 and following, with an mean intensity of 3.478644371032715\n",
      "For m= 6, the brightest z-stack is: 1 and following, with an mean intensity of 4.424566268920898\n",
      "For m= 7, the brightest z-stack is: 1 and following, with an mean intensity of 4.647022565205892\n",
      "For m= 8, the brightest z-stack is: 1 and following, with an mean intensity of 4.123935381571452\n",
      "For m= 9, the brightest z-stack is: 1 and following, with an mean intensity of 2.911614735921224\n",
      "For m= 10, the brightest z-stack is: 1 and following, with an mean intensity of 4.016083399454753\n",
      "For m= 11, the brightest z-stack is: 1 and following, with an mean intensity of 4.217646598815918\n",
      "For m= 12, the brightest z-stack is: 1 and following, with an mean intensity of 4.23190180460612\n",
      "For m= 13, the brightest z-stack is: 1 and following, with an mean intensity of 1.7097702026367188\n",
      "For m= 14, the brightest z-stack is: 1 and following, with an mean intensity of 4.069049835205078\n",
      "For m= 15, the brightest z-stack is: 1 and following, with an mean intensity of 3.9287538528442383\n",
      "For m= 16, the brightest z-stack is: 1 and following, with an mean intensity of 3.7807881037394204\n",
      "For m= 17, the brightest z-stack is: 5 and following, with an mean intensity of 1.011866569519043\n",
      "For m= 18, the brightest z-stack is: 1 and following, with an mean intensity of 1.3652585347493489\n",
      "For m= 19, the brightest z-stack is: 1 and following, with an mean intensity of 2.7518507639567056\n",
      "For m= 20, the brightest z-stack is: 1 and following, with an mean intensity of 4.773961702982585\n"
     ]
    }
   ],
   "source": [
    "# Initialize a structure to hold the brightest z-stack information for each mosaic tile\n",
    "brightest_info = [{'z': None, 'intensity': -1} for _ in range(a.dims.m)]\n",
    "\n",
    "# Iterate through the mosaic tiles\n",
    "for m in range(a.dims.m):\n",
    "    # Then, iterate through the z-stacks for each mosaic tile\n",
    "    for z in range(a.dims.z-2):\n",
    "        # Get the z-slice for this mosaic tile\n",
    "        z_slice1 = a.get_frame(z=z, t=0, c=channal, m=m)  # Assuming the first time point and first channel\n",
    "        z_slice2 = a.get_frame(z=z+1, t=0, c=channal, m=m)\n",
    "        z_slice3 = a.get_frame(z=z+2, t=0, c=channal, m=m)\n",
    "        # Calculate the brightness/intensity of this z-slice\n",
    "        intensity = (np.mean(z_slice1)+np.mean(z_slice2)+np.mean(z_slice3))/3\n",
    "        \n",
    "        # Update if this is the brightest z-stack for this mosaic tile so far\n",
    "        if intensity > brightest_info[m]['intensity']:\n",
    "            brightest_info[m]['z'] = z\n",
    "            brightest_info[m]['intensity'] = intensity\n",
    "\n",
    "# Now, brightest_info contains the brightest z-stack info for each mosaic tile\n",
    "for m, info in enumerate(brightest_info):\n",
    "    print(f\"For m= {m+1}, the brightest z-stack is: {info['z']+1} and following, with an mean intensity of {info['intensity']}\")\n"
   ]
  },
  {
   "cell_type": "code",
   "execution_count": 44,
   "metadata": {},
   "outputs": [],
   "source": [
    "image1 = a.get_frame(z=0, t=0, c=channal, m=0)  # Assuming the first time point and first channel\n",
    "image2 = a.get_frame(z=1, t=0, c=channal, m=0)\n",
    "image3 = a.get_frame(z=2, t=0, c=channal, m=0)"
   ]
  },
  {
   "cell_type": "code",
   "execution_count": 45,
   "metadata": {},
   "outputs": [],
   "source": [
    "# Determine the dimensions for the new image\n",
    "max_width = max(image1.width, image2.width, image3.width)\n",
    "max_height = max(image1.height, image2.height, image3.height)"
   ]
  },
  {
   "cell_type": "code",
   "execution_count": 46,
   "metadata": {},
   "outputs": [],
   "source": [
    "new_image = Image.new('RGBA', (max_width, max_height), (255, 255, 255, 0))"
   ]
  },
  {
   "cell_type": "code",
   "execution_count": 47,
   "metadata": {},
   "outputs": [],
   "source": [
    "new_image.paste(image1, (0, 0), image1 if image1.mode == 'RGBA' else None)\n",
    "new_image.paste(image2, (0, 0), image2 if image2.mode == 'RGBA' else None)\n",
    "new_image.paste(image3, (0, 0), image3 if image3.mode == 'RGBA' else None)"
   ]
  },
  {
   "cell_type": "code",
   "execution_count": 49,
   "metadata": {},
   "outputs": [],
   "source": [
    "new_image.save('overlapped_images.png')  # Saving as PNG to potentially preserve transparency"
   ]
  }
 ],
 "metadata": {
  "kernelspec": {
   "display_name": "Python 3",
   "language": "python",
   "name": "python3"
  },
  "language_info": {
   "codemirror_mode": {
    "name": "ipython",
    "version": 3
   },
   "file_extension": ".py",
   "mimetype": "text/x-python",
   "name": "python",
   "nbconvert_exporter": "python",
   "pygments_lexer": "ipython3",
   "version": "3.12.2"
  }
 },
 "nbformat": 4,
 "nbformat_minor": 2
}
