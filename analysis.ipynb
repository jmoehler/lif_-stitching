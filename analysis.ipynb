{
 "cells": [
  {
   "cell_type": "code",
   "execution_count": 1,
   "metadata": {},
   "outputs": [],
   "source": [
    "from readlif.reader import LifFile\n",
    "import numpy as np\n",
    "#import matplotlib.pyplot as plt"
   ]
  },
  {
   "cell_type": "code",
   "execution_count": 3,
   "metadata": {},
   "outputs": [],
   "source": [
    "#read file\n",
    "img = LifFile('../src/20231230_ID514_silence_IC_neuercfos.lif')\n"
   ]
  },
  {
   "cell_type": "code",
   "execution_count": 4,
   "metadata": {},
   "outputs": [],
   "source": [
    "a = img.get_image(0)\n",
    "\n"
   ]
  },
  {
   "cell_type": "code",
   "execution_count": 5,
   "metadata": {},
   "outputs": [
    {
     "name": "stdout",
     "output_type": "stream",
     "text": [
      "For m= 1, the brightest z-stack is: 1 with an intensity of 2.4705162048339844\n",
      "For m= 2, the brightest z-stack is: 1 with an intensity of 4.386402130126953\n",
      "For m= 3, the brightest z-stack is: 1 with an intensity of 4.031830787658691\n",
      "For m= 4, the brightest z-stack is: 1 with an intensity of 4.5244550704956055\n",
      "For m= 5, the brightest z-stack is: 1 with an intensity of 3.557131767272949\n",
      "For m= 6, the brightest z-stack is: 1 with an intensity of 4.515044212341309\n",
      "For m= 7, the brightest z-stack is: 1 with an intensity of 4.715085983276367\n",
      "For m= 8, the brightest z-stack is: 1 with an intensity of 4.167816162109375\n",
      "For m= 9, the brightest z-stack is: 1 with an intensity of 2.9868383407592773\n",
      "For m= 10, the brightest z-stack is: 1 with an intensity of 4.118259429931641\n",
      "For m= 11, the brightest z-stack is: 1 with an intensity of 4.344040870666504\n",
      "For m= 12, the brightest z-stack is: 1 with an intensity of 4.322844505310059\n",
      "For m= 13, the brightest z-stack is: 1 with an intensity of 1.7469444274902344\n",
      "For m= 14, the brightest z-stack is: 1 with an intensity of 4.179067611694336\n",
      "For m= 15, the brightest z-stack is: 1 with an intensity of 4.045489311218262\n",
      "For m= 16, the brightest z-stack is: 1 with an intensity of 3.8803529739379883\n",
      "For m= 17, the brightest z-stack is: 7 with an intensity of 1.0140056610107422\n",
      "For m= 18, the brightest z-stack is: 2 with an intensity of 1.3775501251220703\n",
      "For m= 19, the brightest z-stack is: 1 with an intensity of 2.7634410858154297\n",
      "For m= 20, the brightest z-stack is: 1 with an intensity of 4.841409683227539\n"
     ]
    }
   ],
   "source": [
    "\n",
    "# Initialize a structure to hold the brightest z-stack information for each mosaic tile\n",
    "brightest_info = [{'z': None, 'intensity': -1} for _ in range(a.dims.m)]\n",
    "\n",
    "# Iterate through the mosaic tiles\n",
    "for m in range(a.dims.m):\n",
    "    # Then, iterate through the z-stacks for each mosaic tile\n",
    "    for z in range(a.dims.z):\n",
    "        # Get the z-slice for this mosaic tile\n",
    "        z_slice = a.get_frame(z=z, t=0, c=0, m=m)  # Assuming the first time point and first channel\n",
    "        \n",
    "        # Calculate the brightness/intensity of this z-slice\n",
    "        intensity = np.mean(z_slice)\n",
    "        \n",
    "        # Update if this is the brightest z-stack for this mosaic tile so far\n",
    "        if intensity > brightest_info[m]['intensity']:\n",
    "            brightest_info[m]['z'] = z\n",
    "            brightest_info[m]['intensity'] = intensity\n",
    "\n",
    "# Now, brightest_info contains the brightest z-stack info for each mosaic tile\n",
    "for m, info in enumerate(brightest_info):\n",
    "    print(f\"For m= {m+1}, the brightest z-stack is: {info['z']+1} with an intensity of {info['intensity']}\")\n"
   ]
  }
 ],
 "metadata": {
  "kernelspec": {
   "display_name": "Python 3",
   "language": "python",
   "name": "python3"
  },
  "language_info": {
   "codemirror_mode": {
    "name": "ipython",
    "version": 3
   },
   "file_extension": ".py",
   "mimetype": "text/x-python",
   "name": "python",
   "nbconvert_exporter": "python",
   "pygments_lexer": "ipython3",
   "version": "3.12.2"
  }
 },
 "nbformat": 4,
 "nbformat_minor": 2
}
